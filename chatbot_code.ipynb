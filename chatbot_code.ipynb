{
 "cells": [
  {
   "cell_type": "code",
   "execution_count": 1,
   "metadata": {
    "colab": {
     "base_uri": "https://localhost:8080/",
     "height": 34
    },
    "colab_type": "code",
    "executionInfo": {
     "elapsed": 1784,
     "status": "ok",
     "timestamp": 1597238066361,
     "user": {
      "displayName": "Anuvrat Karanwal",
      "photoUrl": "",
      "userId": "00023598839116466965"
     },
     "user_tz": -330
    },
    "id": "tfjf3S2Zxry0",
    "outputId": "c34d80c5-177d-4630-b8d6-4c714a93e027"
   },
   "outputs": [
    {
     "name": "stdout",
     "output_type": "stream",
     "text": [
      "Drive already mounted at /content/gdrive; to attempt to forcibly remount, call drive.mount(\"/content/gdrive\", force_remount=True).\n"
     ]
    }
   ],
   "source": [
    "# MOUNTING GOOGLE DRIVE\n",
    "\n",
    "from google.colab import drive\n",
    "drive.mount('/content/gdrive')"
   ]
  },
  {
   "cell_type": "code",
   "execution_count": 2,
   "metadata": {
    "colab": {
     "base_uri": "https://localhost:8080/",
     "height": 759
    },
    "colab_type": "code",
    "executionInfo": {
     "elapsed": 12852,
     "status": "ok",
     "timestamp": 1597238077474,
     "user": {
      "displayName": "Anuvrat Karanwal",
      "photoUrl": "",
      "userId": "00023598839116466965"
     },
     "user_tz": -330
    },
    "id": "uO8iAOZRH-0Y",
    "outputId": "3263a85c-9435-44f5-b2e4-0a745664ea43"
   },
   "outputs": [
    {
     "name": "stdout",
     "output_type": "stream",
     "text": [
      "Requirement already satisfied: spacy in /usr/local/lib/python3.6/dist-packages (2.2.4)\n",
      "Requirement already satisfied: tqdm<5.0.0,>=4.38.0 in /usr/local/lib/python3.6/dist-packages (from spacy) (4.41.1)\n",
      "Requirement already satisfied: srsly<1.1.0,>=1.0.2 in /usr/local/lib/python3.6/dist-packages (from spacy) (1.0.2)\n",
      "Requirement already satisfied: wasabi<1.1.0,>=0.4.0 in /usr/local/lib/python3.6/dist-packages (from spacy) (0.7.1)\n",
      "Requirement already satisfied: plac<1.2.0,>=0.9.6 in /usr/local/lib/python3.6/dist-packages (from spacy) (1.1.3)\n",
      "Requirement already satisfied: numpy>=1.15.0 in /usr/local/lib/python3.6/dist-packages (from spacy) (1.18.5)\n",
      "Requirement already satisfied: catalogue<1.1.0,>=0.0.7 in /usr/local/lib/python3.6/dist-packages (from spacy) (1.0.0)\n",
      "Requirement already satisfied: preshed<3.1.0,>=3.0.2 in /usr/local/lib/python3.6/dist-packages (from spacy) (3.0.2)\n",
      "Requirement already satisfied: cymem<2.1.0,>=2.0.2 in /usr/local/lib/python3.6/dist-packages (from spacy) (2.0.3)\n",
      "Requirement already satisfied: setuptools in /usr/local/lib/python3.6/dist-packages (from spacy) (49.2.0)\n",
      "Requirement already satisfied: requests<3.0.0,>=2.13.0 in /usr/local/lib/python3.6/dist-packages (from spacy) (2.23.0)\n",
      "Requirement already satisfied: blis<0.5.0,>=0.4.0 in /usr/local/lib/python3.6/dist-packages (from spacy) (0.4.1)\n",
      "Requirement already satisfied: thinc==7.4.0 in /usr/local/lib/python3.6/dist-packages (from spacy) (7.4.0)\n",
      "Requirement already satisfied: murmurhash<1.1.0,>=0.28.0 in /usr/local/lib/python3.6/dist-packages (from spacy) (1.0.2)\n",
      "Requirement already satisfied: importlib-metadata>=0.20; python_version < \"3.8\" in /usr/local/lib/python3.6/dist-packages (from catalogue<1.1.0,>=0.0.7->spacy) (1.7.0)\n",
      "Requirement already satisfied: certifi>=2017.4.17 in /usr/local/lib/python3.6/dist-packages (from requests<3.0.0,>=2.13.0->spacy) (2020.6.20)\n",
      "Requirement already satisfied: urllib3!=1.25.0,!=1.25.1,<1.26,>=1.21.1 in /usr/local/lib/python3.6/dist-packages (from requests<3.0.0,>=2.13.0->spacy) (1.24.3)\n",
      "Requirement already satisfied: chardet<4,>=3.0.2 in /usr/local/lib/python3.6/dist-packages (from requests<3.0.0,>=2.13.0->spacy) (3.0.4)\n",
      "Requirement already satisfied: idna<3,>=2.5 in /usr/local/lib/python3.6/dist-packages (from requests<3.0.0,>=2.13.0->spacy) (2.10)\n",
      "Requirement already satisfied: zipp>=0.5 in /usr/local/lib/python3.6/dist-packages (from importlib-metadata>=0.20; python_version < \"3.8\"->catalogue<1.1.0,>=0.0.7->spacy) (3.1.0)\n",
      "Requirement already satisfied: en_vectors_web_lg==2.1.0 from https://github.com/explosion/spacy-models/releases/download/en_vectors_web_lg-2.1.0/en_vectors_web_lg-2.1.0.tar.gz#egg=en_vectors_web_lg==2.1.0 in /usr/local/lib/python3.6/dist-packages (2.1.0)\n",
      "Requirement already satisfied: spacy<3.0.0,>=2.1.0 in /usr/local/lib/python3.6/dist-packages (from en_vectors_web_lg==2.1.0) (2.2.4)\n",
      "Requirement already satisfied: numpy>=1.15.0 in /usr/local/lib/python3.6/dist-packages (from spacy<3.0.0,>=2.1.0->en_vectors_web_lg==2.1.0) (1.18.5)\n",
      "Requirement already satisfied: cymem<2.1.0,>=2.0.2 in /usr/local/lib/python3.6/dist-packages (from spacy<3.0.0,>=2.1.0->en_vectors_web_lg==2.1.0) (2.0.3)\n",
      "Requirement already satisfied: setuptools in /usr/local/lib/python3.6/dist-packages (from spacy<3.0.0,>=2.1.0->en_vectors_web_lg==2.1.0) (49.2.0)\n",
      "Requirement already satisfied: tqdm<5.0.0,>=4.38.0 in /usr/local/lib/python3.6/dist-packages (from spacy<3.0.0,>=2.1.0->en_vectors_web_lg==2.1.0) (4.41.1)\n",
      "Requirement already satisfied: preshed<3.1.0,>=3.0.2 in /usr/local/lib/python3.6/dist-packages (from spacy<3.0.0,>=2.1.0->en_vectors_web_lg==2.1.0) (3.0.2)\n",
      "Requirement already satisfied: murmurhash<1.1.0,>=0.28.0 in /usr/local/lib/python3.6/dist-packages (from spacy<3.0.0,>=2.1.0->en_vectors_web_lg==2.1.0) (1.0.2)\n",
      "Requirement already satisfied: srsly<1.1.0,>=1.0.2 in /usr/local/lib/python3.6/dist-packages (from spacy<3.0.0,>=2.1.0->en_vectors_web_lg==2.1.0) (1.0.2)\n",
      "Requirement already satisfied: wasabi<1.1.0,>=0.4.0 in /usr/local/lib/python3.6/dist-packages (from spacy<3.0.0,>=2.1.0->en_vectors_web_lg==2.1.0) (0.7.1)\n",
      "Requirement already satisfied: plac<1.2.0,>=0.9.6 in /usr/local/lib/python3.6/dist-packages (from spacy<3.0.0,>=2.1.0->en_vectors_web_lg==2.1.0) (1.1.3)\n",
      "Requirement already satisfied: catalogue<1.1.0,>=0.0.7 in /usr/local/lib/python3.6/dist-packages (from spacy<3.0.0,>=2.1.0->en_vectors_web_lg==2.1.0) (1.0.0)\n",
      "Requirement already satisfied: blis<0.5.0,>=0.4.0 in /usr/local/lib/python3.6/dist-packages (from spacy<3.0.0,>=2.1.0->en_vectors_web_lg==2.1.0) (0.4.1)\n",
      "Requirement already satisfied: requests<3.0.0,>=2.13.0 in /usr/local/lib/python3.6/dist-packages (from spacy<3.0.0,>=2.1.0->en_vectors_web_lg==2.1.0) (2.23.0)\n",
      "Requirement already satisfied: thinc==7.4.0 in /usr/local/lib/python3.6/dist-packages (from spacy<3.0.0,>=2.1.0->en_vectors_web_lg==2.1.0) (7.4.0)\n",
      "Requirement already satisfied: importlib-metadata>=0.20; python_version < \"3.8\" in /usr/local/lib/python3.6/dist-packages (from catalogue<1.1.0,>=0.0.7->spacy<3.0.0,>=2.1.0->en_vectors_web_lg==2.1.0) (1.7.0)\n",
      "Requirement already satisfied: chardet<4,>=3.0.2 in /usr/local/lib/python3.6/dist-packages (from requests<3.0.0,>=2.13.0->spacy<3.0.0,>=2.1.0->en_vectors_web_lg==2.1.0) (3.0.4)\n",
      "Requirement already satisfied: certifi>=2017.4.17 in /usr/local/lib/python3.6/dist-packages (from requests<3.0.0,>=2.13.0->spacy<3.0.0,>=2.1.0->en_vectors_web_lg==2.1.0) (2020.6.20)\n",
      "Requirement already satisfied: idna<3,>=2.5 in /usr/local/lib/python3.6/dist-packages (from requests<3.0.0,>=2.13.0->spacy<3.0.0,>=2.1.0->en_vectors_web_lg==2.1.0) (2.10)\n",
      "Requirement already satisfied: urllib3!=1.25.0,!=1.25.1,<1.26,>=1.21.1 in /usr/local/lib/python3.6/dist-packages (from requests<3.0.0,>=2.13.0->spacy<3.0.0,>=2.1.0->en_vectors_web_lg==2.1.0) (1.24.3)\n",
      "Requirement already satisfied: zipp>=0.5 in /usr/local/lib/python3.6/dist-packages (from importlib-metadata>=0.20; python_version < \"3.8\"->catalogue<1.1.0,>=0.0.7->spacy<3.0.0,>=2.1.0->en_vectors_web_lg==2.1.0) (3.1.0)\n",
      "\u001b[38;5;2m✔ Download and installation successful\u001b[0m\n",
      "You can now load the model via spacy.load('en_vectors_web_lg')\n"
     ]
    }
   ],
   "source": [
    "# INSTALLING DEPENDENCY SUCH AS SPACY AND PRE-TRAINED WORD EMBEDDINGS\n",
    "\n",
    "!pip install spacy\n",
    "!python -m spacy download en_vectors_web_lg"
   ]
  },
  {
   "cell_type": "code",
   "execution_count": 3,
   "metadata": {
    "colab": {},
    "colab_type": "code",
    "executionInfo": {
     "elapsed": 34281,
     "status": "ok",
     "timestamp": 1597238098925,
     "user": {
      "displayName": "Anuvrat Karanwal",
      "photoUrl": "",
      "userId": "00023598839116466965"
     },
     "user_tz": -330
    },
    "id": "Q1nVc3IWyz7P"
   },
   "outputs": [],
   "source": [
    "# IMPORTING THE NECESSARY LIBRARIES\n",
    "\n",
    "import tensorflow as tf\n",
    "from tensorflow import keras\n",
    "import numpy as np\n",
    "import re\n",
    "import spacy\n",
    "from tensorflow.keras.preprocessing.text import Tokenizer\n",
    "import nltk\n",
    "from tensorflow.keras.preprocessing.sequence import pad_sequences\n",
    "from tensorflow.keras.models import Model\n",
    "from tensorflow.keras.layers import Input, LSTM, GRU, Dense, Embedding\n",
    "import matplotlib.pyplot as plt\n",
    "from tensorflow.keras.utils import plot_model\n",
    "from tensorflow.keras import backend as K\n",
    "import os\n",
    "import time\n",
    "nlp = spacy.load('en_vectors_web_lg')"
   ]
  },
  {
   "cell_type": "code",
   "execution_count": 4,
   "metadata": {
    "colab": {},
    "colab_type": "code",
    "executionInfo": {
     "elapsed": 30232,
     "status": "ok",
     "timestamp": 1597238098927,
     "user": {
      "displayName": "Anuvrat Karanwal",
      "photoUrl": "",
      "userId": "00023598839116466965"
     },
     "user_tz": -330
    },
    "id": "uFeSwpNVyz7S"
   },
   "outputs": [],
   "source": [
    "# IMPORTING THE DATASETS FROM THE MOUNTED DRIVE\n",
    "\n",
    "lines = open(\"/content/gdrive/My Drive/chatbot_collab/movie_lines.txt\", encoding='utf-8', errors='ignore').read().split(\"\\n\")\n",
    "conversations = open(\"/content/gdrive/My Drive/chatbot_collab/movie_conversations.txt\", encoding='utf-8', errors='ignore').read().split(\"\\n\")"
   ]
  },
  {
   "cell_type": "code",
   "execution_count": 6,
   "metadata": {
    "colab": {},
    "colab_type": "code",
    "executionInfo": {
     "elapsed": 1931,
     "status": "ok",
     "timestamp": 1597238228034,
     "user": {
      "displayName": "Anuvrat Karanwal",
      "photoUrl": "",
      "userId": "00023598839116466965"
     },
     "user_tz": -330
    },
    "id": "hTVUb3QQyz7V"
   },
   "outputs": [],
   "source": [
    "# CREATING A DICT WHICH MAPS LINE ID TO LINE TEXT\n",
    "\n",
    "id2line = {}\n",
    "for line in lines:\n",
    "    _line = line.split(\" +++$+++ \")\n",
    "    if len(_line) == 5:\n",
    "        id2line[_line[0]] = _line[-1]"
   ]
  },
  {
   "cell_type": "code",
   "execution_count": 7,
   "metadata": {
    "colab": {},
    "colab_type": "code",
    "executionInfo": {
     "elapsed": 2939,
     "status": "ok",
     "timestamp": 1597238233697,
     "user": {
      "displayName": "Anuvrat Karanwal",
      "photoUrl": "",
      "userId": "00023598839116466965"
     },
     "user_tz": -330
    },
    "id": "C7-M7H6Byz7Y"
   },
   "outputs": [],
   "source": [
    "# CLEANSING OF TEXT IN ID2LINE VALUES\n",
    "\n",
    "for i in id2line.keys():\n",
    "    id2line[i] = id2line[i].lower()\n",
    "    id2line[i] = str(\"<sos> \") + id2line[i].replace(\"i'm\", \"i am\").replace(\"'s\", \" is\").replace(\"'ll\", \" will\").replace(\"'ve\", \" have\").replace(\"'re\", \" are\").replace(\"'d\", \" would\").replace(\"won't\", \"will not\").replace(\"can't\", \"can not\").replace(\"n't\", \" not\").replace(\"'\", \"\") + str(\" <eos>\")"
   ]
  },
  {
   "cell_type": "code",
   "execution_count": 8,
   "metadata": {
    "colab": {},
    "colab_type": "code",
    "executionInfo": {
     "elapsed": 1839,
     "status": "ok",
     "timestamp": 1597238237419,
     "user": {
      "displayName": "Anuvrat Karanwal",
      "photoUrl": "",
      "userId": "00023598839116466965"
     },
     "user_tz": -330
    },
    "id": "GTGHj05dyz7a"
   },
   "outputs": [],
   "source": [
    "# CREATING LIST OF ALL THE CONVERSATIONS\n",
    "\n",
    "conversations_ids = []\n",
    "for conversation in conversations[:-1]:\n",
    "    _conversation = conversation.split(\" +++$+++ \")[-1][1:-1].replace(\"'\",\"\").replace(\" \",\"\")\n",
    "    conversations_ids.append(_conversation.split(\",\"))"
   ]
  },
  {
   "cell_type": "code",
   "execution_count": 9,
   "metadata": {
    "colab": {},
    "colab_type": "code",
    "executionInfo": {
     "elapsed": 6881,
     "status": "ok",
     "timestamp": 1597238245568,
     "user": {
      "displayName": "Anuvrat Karanwal",
      "photoUrl": "",
      "userId": "00023598839116466965"
     },
     "user_tz": -330
    },
    "id": "kZy4DicOyz7e"
   },
   "outputs": [],
   "source": [
    "# TOKENIZING AND EXTRACTING WORD_2_INDEX DICT\n",
    "\n",
    "t = Tokenizer(num_words=18000, oov_token='<unk>', filters='!\"#$%&()*+,-./:;=?@[\\\\]^_`{|}~\\t\\n')\n",
    "t.fit_on_texts(id2line.values())\n",
    "word_2_index_dict = t.word_index"
   ]
  },
  {
   "cell_type": "code",
   "execution_count": 10,
   "metadata": {
    "colab": {},
    "colab_type": "code",
    "executionInfo": {
     "elapsed": 6331,
     "status": "ok",
     "timestamp": 1597238245570,
     "user": {
      "displayName": "Anuvrat Karanwal",
      "photoUrl": "",
      "userId": "00023598839116466965"
     },
     "user_tz": -330
    },
    "id": "MBE4Ttxcyz7n"
   },
   "outputs": [],
   "source": [
    "# CREATING A REVERSE DICTIONARY FOR THE OUTPUTS\n",
    "\n",
    "index_2_word_dict = {index : word  for word,index in word_2_index_dict.items()}"
   ]
  },
  {
   "cell_type": "code",
   "execution_count": 11,
   "metadata": {
    "colab": {},
    "colab_type": "code",
    "executionInfo": {
     "elapsed": 10447,
     "status": "ok",
     "timestamp": 1597238250218,
     "user": {
      "displayName": "Anuvrat Karanwal",
      "photoUrl": "",
      "userId": "00023598839116466965"
     },
     "user_tz": -330
    },
    "id": "h7KW4pAnyz7g"
   },
   "outputs": [],
   "source": [
    "# CREATING NEW DICT FOR MATCHING ID TO ENCODED LINES \n",
    "\n",
    "encoded_lines = t.texts_to_sequences(id2line.values())\n",
    "id_2_encoded_line = {}\n",
    "k = 0\n",
    "for i in id2line.keys():\n",
    "    id_2_encoded_line[i] = encoded_lines[k]\n",
    "    k += 1"
   ]
  },
  {
   "cell_type": "code",
   "execution_count": 12,
   "metadata": {
    "colab": {},
    "colab_type": "code",
    "executionInfo": {
     "elapsed": 9745,
     "status": "ok",
     "timestamp": 1597238250220,
     "user": {
      "displayName": "Anuvrat Karanwal",
      "photoUrl": "",
      "userId": "00023598839116466965"
     },
     "user_tz": -330
    },
    "id": "pbpTglSqyz7i"
   },
   "outputs": [],
   "source": [
    "# CREATING SEPARATELY THE QUESTION AND THE ANSWERS\n",
    "\n",
    "questions = []\n",
    "answers = []\n",
    "for conversation in conversations_ids:\n",
    "    for i in range(len(conversation) - 1):\n",
    "        questions.append(id_2_encoded_line[conversation[i]])\n",
    "        answers.append(id_2_encoded_line[conversation[i+1]])"
   ]
  },
  {
   "cell_type": "code",
   "execution_count": 13,
   "metadata": {
    "colab": {},
    "colab_type": "code",
    "executionInfo": {
     "elapsed": 8930,
     "status": "ok",
     "timestamp": 1597238250222,
     "user": {
      "displayName": "Anuvrat Karanwal",
      "photoUrl": "",
      "userId": "00023598839116466965"
     },
     "user_tz": -330
    },
    "id": "IT8PfBtdyz7l"
   },
   "outputs": [],
   "source": [
    "# SETTING THE 80 PERCENTILE LENGTH OF QUESTIONS AND ANSWERS AS MAX QUES AND ANS LEN\n",
    "\n",
    "len_of_all_questions = [len(ques) for ques in questions]\n",
    "len_of_all_answers = [len(ans) for ans in answers]\n",
    "\n",
    "max_ques_len = int(np.percentile(len_of_all_questions, 80))    #18\n",
    "max_ans_len = int(np.percentile(len_of_all_answers, 90))       #27"
   ]
  },
  {
   "cell_type": "code",
   "execution_count": 14,
   "metadata": {
    "colab": {},
    "colab_type": "code",
    "executionInfo": {
     "elapsed": 10038,
     "status": "ok",
     "timestamp": 1597238252052,
     "user": {
      "displayName": "Anuvrat Karanwal",
      "photoUrl": "",
      "userId": "00023598839116466965"
     },
     "user_tz": -330
    },
    "id": "6663K0Ijyz7p"
   },
   "outputs": [],
   "source": [
    "# GETTING THE QUESTION AND ANSWERS SORTED\n",
    "\n",
    "sorted_questions = []\n",
    "sorted_answers = []\n",
    "for i in range(3,max_ques_len + 1):\n",
    "    for j,k in enumerate(questions):\n",
    "        if i == len(k) and len(answers[j]) >= 3 and len(answers[j]) <= (max_ans_len):\n",
    "            sorted_questions.append(k)\n",
    "            sorted_answers.append(answers[j][1:])"
   ]
  },
  {
   "cell_type": "code",
   "execution_count": 15,
   "metadata": {
    "colab": {},
    "colab_type": "code",
    "executionInfo": {
     "elapsed": 10259,
     "status": "ok",
     "timestamp": 1597238252922,
     "user": {
      "displayName": "Anuvrat Karanwal",
      "photoUrl": "",
      "userId": "00023598839116466965"
     },
     "user_tz": -330
    },
    "id": "2ZPesbTHyz7s"
   },
   "outputs": [],
   "source": [
    "# PADDING THE SORTED QUESTIONS AND ANSWERS\n",
    "\n",
    "padded_sorted_ques = pad_sequences(sorted_questions, maxlen= max_ques_len, padding='pre')\n",
    "padded_sorted_ans = pad_sequences(sorted_answers, maxlen= max_ans_len , padding='post',truncating='post')"
   ]
  },
  {
   "cell_type": "code",
   "execution_count": 16,
   "metadata": {
    "colab": {},
    "colab_type": "code",
    "executionInfo": {
     "elapsed": 9652,
     "status": "ok",
     "timestamp": 1597238252924,
     "user": {
      "displayName": "Anuvrat Karanwal",
      "photoUrl": "",
      "userId": "00023598839116466965"
     },
     "user_tz": -330
    },
    "id": "UCHt-Q7XILhB"
   },
   "outputs": [],
   "source": [
    "# CREATING AN EMBEDDING MATRIX\n",
    "\n",
    "max_tokens = 18000\n",
    "embedding_matrix = np.random.randn(max_tokens, 300)\n",
    "for i in range(1,max_tokens):\n",
    "    if nlp.vocab[index_2_word_dict[i]].has_vector:\n",
    "        embedding_matrix[i] = nlp.vocab[index_2_word_dict[i]].vector"
   ]
  },
  {
   "cell_type": "code",
   "execution_count": 17,
   "metadata": {
    "colab": {},
    "colab_type": "code",
    "executionInfo": {
     "elapsed": 9118,
     "status": "ok",
     "timestamp": 1597238252926,
     "user": {
      "displayName": "Anuvrat Karanwal",
      "photoUrl": "",
      "userId": "00023598839116466965"
     },
     "user_tz": -330
    },
    "id": "PUWoE8vfyz7x"
   },
   "outputs": [],
   "source": [
    "# DEFINING THE PARAMETERS\n",
    "\n",
    "epochs = 300\n",
    "batch_size = 32\n",
    "rnn_size = 1024\n",
    "encoding_embedding_size = 300\n",
    "decoding_embedding_size = 300\n",
    "dropout_rate = 0.3\n",
    "steps_per_epoch = len(sorted_questions)//batch_size"
   ]
  },
  {
   "cell_type": "code",
   "execution_count": 18,
   "metadata": {
    "colab": {},
    "colab_type": "code",
    "executionInfo": {
     "elapsed": 8761,
     "status": "ok",
     "timestamp": 1597238252929,
     "user": {
      "displayName": "Anuvrat Karanwal",
      "photoUrl": "",
      "userId": "00023598839116466965"
     },
     "user_tz": -330
    },
    "id": "bxDibXbuyz8w"
   },
   "outputs": [],
   "source": [
    "# DEFINING THE ENCODER CLASS OF MODEL\n",
    "\n",
    "class Encoder(tf.keras.Model):\n",
    "    def __init__(self, max_tokens, embedding_dim, enc_units, batch_sz, dropout_rate, embedding_matrix):\n",
    "        super(Encoder, self).__init__()\n",
    "        self.batch_sz = batch_sz\n",
    "        self.enc_units = enc_units\n",
    "        self.dropout_rate = dropout_rate\n",
    "        self.outputs = {}\n",
    "        self.states = {}\n",
    "        self.embedding = tf.keras.layers.Embedding(input_dim=max_tokens, output_dim= embedding_dim, weights = [embedding_matrix])\n",
    "        self.lstmb1 = tf.keras.layers.Bidirectional(tf.keras.layers.LSTM(self.enc_units,\n",
    "                                                                        return_sequences=True,\n",
    "                                                                        return_state=True,\n",
    "                                                                        dropout = self.dropout_rate,\n",
    "                                                                        go_backwards=True), merge_mode='sum')\n",
    "        \n",
    "        self.lstmb2 = tf.keras.layers.Bidirectional(tf.keras.layers.LSTM(self.enc_units,\n",
    "                                                                        return_sequences=True,\n",
    "                                                                        return_state= True,\n",
    "                                                                         dropout=self.dropout_rate, go_backwards=True), merge_mode='sum')\n",
    "        \n",
    "        self.lstmb3 = tf.keras.layers.Bidirectional(tf.keras.layers.LSTM(self.enc_units,\n",
    "                                                                        return_sequences=True,\n",
    "                                                                        return_state=True,\n",
    "                                                                        dropout=self.dropout_rate, go_backwards=True), merge_mode='sum')\n",
    "\n",
    "    \n",
    "    def call(self, x):\n",
    "        x = self.embedding(x)\n",
    "\n",
    "        x, hf, hb, cf, cb = self.lstmb1(x)\n",
    "        x, hf, hb, cf, cb = self.lstmb2(x, initial_state=[hf,hb,cf,cb])\n",
    "        self.outputs, self.states[\"for_h\"], self.states[\"for_c\"], self.states[\"bac_h\"], self.states[\"bac_c\"] = self.lstmb3(x, initial_state=[hf,hb,cf,cb])\n",
    "        return self.outputs, self.states\n"
   ]
  },
  {
   "cell_type": "code",
   "execution_count": 19,
   "metadata": {
    "colab": {},
    "colab_type": "code",
    "executionInfo": {
     "elapsed": 8278,
     "status": "ok",
     "timestamp": 1597238252930,
     "user": {
      "displayName": "Anuvrat Karanwal",
      "photoUrl": "",
      "userId": "00023598839116466965"
     },
     "user_tz": -330
    },
    "id": "OJC2G8Usyz8y"
   },
   "outputs": [],
   "source": [
    "# DEFINING THE ATTENTION CLASS\n",
    "\n",
    "class BahdanauAttention(tf.keras.layers.Layer):\n",
    "  def __init__(self, units):\n",
    "    super(BahdanauAttention, self).__init__()\n",
    "    self.W1 = tf.keras.layers.Dense(units)\n",
    "    self.W2 = tf.keras.layers.Dense(units)\n",
    "    self.V = tf.keras.layers.Dense(1)\n",
    "\n",
    "  def call(self, query, values):\n",
    "    #query == states\n",
    "    #values == output\n",
    "    # query hidden state shape == (batch_size, hidden size)\n",
    "    # query_with_time_axis shape == (batch_size, 1, hidden size)\n",
    "    # values shape == (batch_size, max_len, hidden size)\n",
    "    # we are doing this to broadcast addition along the time axis to calculate the score\n",
    "    query_with_time_axis = tf.expand_dims(query, 1)\n",
    "\n",
    "    # score shape == (batch_size, max_length, 1)\n",
    "    # we get 1 at the last axis because we are applying score to self.V\n",
    "    # the shape of the tensor before applying self.V is (batch_size, max_length, units)\n",
    "    score = self.V(tf.nn.tanh(\n",
    "        self.W1(query_with_time_axis) + self.W2(values)))\n",
    "\n",
    "    # attention_weights shape == (batch_size, max_length, 1)\n",
    "    attention_weights = tf.nn.softmax(score, axis=1)\n",
    "\n",
    "    # context_vector shape after sum == (batch_size, hidden_size)\n",
    "    context_vector = attention_weights * values\n",
    "    context_vector = tf.reduce_sum(context_vector, axis=1)\n",
    "\n",
    "    return context_vector, attention_weights"
   ]
  },
  {
   "cell_type": "code",
   "execution_count": 20,
   "metadata": {
    "colab": {},
    "colab_type": "code",
    "executionInfo": {
     "elapsed": 8503,
     "status": "ok",
     "timestamp": 1597238253743,
     "user": {
      "displayName": "Anuvrat Karanwal",
      "photoUrl": "",
      "userId": "00023598839116466965"
     },
     "user_tz": -330
    },
    "id": "bnb4dEbKyz81"
   },
   "outputs": [],
   "source": [
    "# DEFINING THE DECODER CLASS OF MODEL\n",
    "\n",
    "class Decoder(tf.keras.Model):\n",
    "  def __init__(self, max_tokens, embedding_dim, dec_units, batch_sz, dropout_rate, embedding_matrix):\n",
    "    super(Decoder, self).__init__()\n",
    "    self.batch_sz = batch_sz\n",
    "    self.dec_units = dec_units\n",
    "    self.dropout_rate = dropout_rate\n",
    "\n",
    "    self.embedding = tf.keras.layers.Embedding(input_dim=max_tokens, output_dim= embedding_dim, weights = [embedding_matrix])\n",
    "    self.lstm1 = tf.keras.layers.LSTM(self.dec_units,\n",
    "                                   return_sequences=True,\n",
    "                                   return_state=True,\n",
    "                                   dropout=self.dropout_rate)\n",
    "    self.lstm2 = tf.keras.layers.LSTM(self.dec_units,\n",
    "                                   return_sequences=True,\n",
    "                                   return_state=True,\n",
    "                                   dropout=self.dropout_rate)\n",
    "    self.lstm3 = tf.keras.layers.LSTM(self.dec_units,\n",
    "                                   return_sequences=True,\n",
    "                                   return_state=True,\n",
    "                                   dropout=self.dropout_rate)\n",
    "    \n",
    "    self.fc = tf.keras.layers.Dense(max_tokens)\n",
    "    self.attention = BahdanauAttention(self.dec_units)\n",
    "    \n",
    "\n",
    "  def call(self, x, enc_output, hidden):\n",
    "    # x shape after passing through embedding == (batch_size, 1, embedding_dim)\n",
    "    x = self.embedding(x)\n",
    "\n",
    "    x, h, c = self.lstm1(x, initial_state = hidden)\n",
    "    x, h ,c = self.lstm2(x, initial_state= [h, c])\n",
    "    \n",
    "    # enc_output shape == (batch_size, max_length, hidden_size)\n",
    "    context_vector, attention_weights = self.attention(h, enc_output)\n",
    "\n",
    "    # x shape after concatenation == (batch_size, 1, embedding_dim + hidden_size)\n",
    "    x = tf.concat([tf.expand_dims(context_vector, 1), x], axis=-1)\n",
    "\n",
    "    # applying lstm\n",
    "    x, h, c = self.lstm3(x, initial_state= [h, c])\n",
    "    states = [h, c]\n",
    "\n",
    "    x = tf.reshape(x, (-1, x.shape[2]))\n",
    "\n",
    "    # output shape == (batch_size, vocab)\n",
    "    x = self.fc(x)\n",
    "\n",
    "    return x, states,attention_weights\n"
   ]
  },
  {
   "cell_type": "code",
   "execution_count": 21,
   "metadata": {
    "colab": {},
    "colab_type": "code",
    "executionInfo": {
     "elapsed": 1743,
     "status": "ok",
     "timestamp": 1597238270298,
     "user": {
      "displayName": "Anuvrat Karanwal",
      "photoUrl": "",
      "userId": "00023598839116466965"
     },
     "user_tz": -330
    },
    "id": "z4EV9Dj6yz84"
   },
   "outputs": [],
   "source": [
    "# CREATING THE DATASET\n",
    "dataset = tf.data.Dataset.from_tensor_slices((padded_sorted_ques, padded_sorted_ans))\n",
    "dataset = dataset.batch(batch_size, drop_remainder=True)"
   ]
  },
  {
   "cell_type": "code",
   "execution_count": 22,
   "metadata": {
    "colab": {},
    "colab_type": "code",
    "executionInfo": {
     "elapsed": 1009,
     "status": "ok",
     "timestamp": 1597238270301,
     "user": {
      "displayName": "Anuvrat Karanwal",
      "photoUrl": "",
      "userId": "00023598839116466965"
     },
     "user_tz": -330
    },
    "id": "V1yv0FEWyz88"
   },
   "outputs": [],
   "source": [
    "# CREATING OBJECTS OF MODEL CLASSES \n",
    "encoder = Encoder(max_tokens, encoding_embedding_size, rnn_size, batch_size, dropout_rate, embedding_matrix)\n",
    "decoder = Decoder(max_tokens, decoding_embedding_size, rnn_size, batch_size, dropout_rate, embedding_matrix)"
   ]
  },
  {
   "cell_type": "code",
   "execution_count": 23,
   "metadata": {
    "colab": {},
    "colab_type": "code",
    "executionInfo": {
     "elapsed": 945,
     "status": "ok",
     "timestamp": 1597238271115,
     "user": {
      "displayName": "Anuvrat Karanwal",
      "photoUrl": "",
      "userId": "00023598839116466965"
     },
     "user_tz": -330
    },
    "id": "mW68HuDfyz9H"
   },
   "outputs": [],
   "source": [
    "# DEFINING THE OPTIMIZER AND THE LOSS FUNCTION\n",
    "\n",
    "optimizer = tf.keras.optimizers.Adam()\n",
    "\n",
    "def loss_function(real, pred):\n",
    "  mask = tf.math.logical_not(tf.math.equal(real, 0))\n",
    "  loss_ = tf.keras.losses.sparse_categorical_crossentropy(y_true=real, y_pred=pred, from_logits=True)\n",
    "\n",
    "  mask = tf.cast(mask, dtype=loss_.dtype)\n",
    "  loss_ *= mask\n",
    "\n",
    "  return tf.reduce_mean(loss_)"
   ]
  },
  {
   "cell_type": "code",
   "execution_count": 24,
   "metadata": {
    "colab": {},
    "colab_type": "code",
    "executionInfo": {
     "elapsed": 1009,
     "status": "ok",
     "timestamp": 1597238272056,
     "user": {
      "displayName": "Anuvrat Karanwal",
      "photoUrl": "",
      "userId": "00023598839116466965"
     },
     "user_tz": -330
    },
    "id": "JdId6KMGyz9O"
   },
   "outputs": [],
   "source": [
    "# DEFINING THE PARAMETERS AND FUNCTION FOR PLOTTING ACCURACY HISTORY DURING TRAINING\n",
    "\n",
    "history={'loss':[]}\n",
    "smallest_loss = np.inf\n",
    "best_ep = 1\n",
    "\n",
    "def plot_history():\n",
    "    plt.figure(figsize=(7,7))\n",
    "    plt.plot(best_ep,smallest_loss,'ro')\n",
    "    plt.plot(history['loss'],'b-')\n",
    "    plt.legend(['best','loss'])\n",
    "    plt.show()"
   ]
  },
  {
   "cell_type": "code",
   "execution_count": 25,
   "metadata": {
    "colab": {},
    "colab_type": "code",
    "executionInfo": {
     "elapsed": 1669,
     "status": "ok",
     "timestamp": 1597238274275,
     "user": {
      "displayName": "Anuvrat Karanwal",
      "photoUrl": "",
      "userId": "00023598839116466965"
     },
     "user_tz": -330
    },
    "id": "Lgbb4jvi6srv"
   },
   "outputs": [],
   "source": [
    "# DEFINING THE CHECKPOINT AND MANAGER FOR OBJECT BASED SAVING\n",
    "\n",
    "checkpoint_dir = \"/content/gdrive/My Drive/chatbot_collab/model_checkpoints\"\n",
    "checkpoint = tf.train.Checkpoint(optimizer=optimizer,\n",
    "                                 encoder=encoder,\n",
    "                                 decoder=decoder)\n",
    "manager = tf.train.CheckpointManager(checkpoint, checkpoint_dir, max_to_keep=1)"
   ]
  },
  {
   "cell_type": "code",
   "execution_count": 26,
   "metadata": {
    "colab": {},
    "colab_type": "code",
    "executionInfo": {
     "elapsed": 1388,
     "status": "ok",
     "timestamp": 1597238277800,
     "user": {
      "displayName": "Anuvrat Karanwal",
      "photoUrl": "",
      "userId": "00023598839116466965"
     },
     "user_tz": -330
    },
    "id": "ZXWe8b1Zyz9V"
   },
   "outputs": [],
   "source": [
    "# THIS IS THE TRAIN STEP OF THE MODEL\n",
    "\n",
    "def train_step(inp, targ):\n",
    "  loss = 0\n",
    "\n",
    "  with tf.GradientTape() as tape:\n",
    "    enc_output, enc_states = encoder(inp)\n",
    "\n",
    "    dec_input = tf.expand_dims([word_2_index_dict['<sos>']] * batch_size, 1)\n",
    "    dec_hidden = [ tf.add(enc_states[\"for_h\"], enc_states[\"bac_h\"]), tf.add(enc_states[\"for_c\"], \n",
    "                                enc_states[\"bac_c\"]) ]\n",
    "    \n",
    "    # Teacher forcing - feeding the target as the next input\n",
    "    for t in range(1, targ.shape[1]):\n",
    "      # passing enc_output to the decoder\n",
    "      predictions, dec_hidden,_ = decoder(dec_input, enc_output, dec_hidden)\n",
    "\n",
    "      loss += loss_function(targ[:, t], predictions)\n",
    "\n",
    "      dec_input = tf.expand_dims(targ[:, t], 1)\n",
    "\n",
    "  batch_loss = (loss / int(targ.shape[1]))\n",
    "\n",
    "  variables = encoder.trainable_variables + decoder.trainable_variables\n",
    "\n",
    "  gradients = tape.gradient(loss, variables)\n",
    "\n",
    "  optimizer.apply_gradients(zip(gradients, variables))\n",
    "\n",
    "  return batch_loss"
   ]
  },
  {
   "cell_type": "code",
   "execution_count": 27,
   "metadata": {
    "colab": {},
    "colab_type": "code",
    "executionInfo": {
     "elapsed": 1299,
     "status": "ok",
     "timestamp": 1597238279497,
     "user": {
      "displayName": "Anuvrat Karanwal",
      "photoUrl": "",
      "userId": "00023598839116466965"
     },
     "user_tz": -330
    },
    "id": "ykWuijzHFQF7"
   },
   "outputs": [],
   "source": [
    "# IMPORTING LIBRARIES AND DEFINING FUNCTION FOR PREPROCESSING THE ASKED QUESTIONS\n",
    "\n",
    "import unicodedata\n",
    "import matplotlib.ticker as ticker\n",
    "\n",
    "def unicode_to_ascii(s):\n",
    "    return ''.join(c for c in unicodedata.normalize('NFD', s)\n",
    "      if unicodedata.category(c) != 'Mn')"
   ]
  },
  {
   "cell_type": "code",
   "execution_count": 28,
   "metadata": {
    "colab": {},
    "colab_type": "code",
    "executionInfo": {
     "elapsed": 1864,
     "status": "ok",
     "timestamp": 1597238282758,
     "user": {
      "displayName": "Anuvrat Karanwal",
      "photoUrl": "",
      "userId": "00023598839116466965"
     },
     "user_tz": -330
    },
    "id": "395gFKY9yz9l"
   },
   "outputs": [],
   "source": [
    "# FUNCTION FOR EVALUATING THE ANSWERS OF THE QUESTIONS ASKED (USED BY ANSWERING_QUES FUNCTION)\n",
    "\n",
    "def evaluate(sentence, token):\n",
    "  attention_plot = np.zeros((max_ans_len, max_ques_len))\n",
    "\n",
    "  sentence = unicode_to_ascii(sentence.lower())\n",
    "    \n",
    "  inp = str(\"<sos> \") + sentence.replace(\"i'm\", \"i am\").replace(\"'s\", \" is\").replace(\"'ll\", \" will\").replace(\"'ve\", \" have\").replace(\"'re\", \" are\").replace(\"'d\", \" would\").replace(\"won't\", \"will not\").replace(\"can't\", \"can not\").replace(\"n't\", \" not\").replace(\"'bout\", \"about\").replace(\"'til\", \"until\").replace(\"'\", \"\") + str(\" <eos>\")\n",
    "  inp = re.sub(r\"[-()\\\"#/@;:{}`$+=~|.!?,]\", \"\", inp)\n",
    "\n",
    "  inp = token.texts_to_sequences([inp])[0]\n",
    "  inp = pad_sequences([inp], maxlen=max_ques_len, padding='pre')\n",
    "  inp = tf.convert_to_tensor(inp)\n",
    "\n",
    "  result = ''\n",
    "\n",
    "  enc_out, enc_states = encoder(inp)\n",
    "  \n",
    "  dec_hidden = [ tf.add(enc_states[\"for_h\"], enc_states[\"bac_h\"]), tf.add(enc_states[\"for_c\"], \n",
    "                                enc_states[\"bac_c\"]) ]\n",
    "  dec_input = tf.expand_dims([word_2_index_dict['<sos>']], 1)\n",
    "\n",
    "  for t in range(max_ans_len):\n",
    "    predictions, dec_hidden, attention_weights = decoder(dec_input,\n",
    "                                                           enc_out,\n",
    "                                                          dec_hidden)\n",
    "\n",
    "    # storing the attention weights to plot later on\n",
    "    attention_weights = tf.reshape(attention_weights, [-1])\n",
    "    attention_plot[t] = attention_weights.numpy()\n",
    "\n",
    "    predicted_id = tf.argmax(predictions[0]).numpy()\n",
    "\n",
    "    if index_2_word_dict[predicted_id] == '<eos>':\n",
    "      return result, sentence, attention_plot\n",
    "\n",
    "    result += index_2_word_dict[predicted_id] + ' '\n",
    "    # the predicted ID is fed back into the model\n",
    "    dec_input = tf.expand_dims([predicted_id], 0)\n",
    "\n",
    "  return result, sentence, attention_plot"
   ]
  },
  {
   "cell_type": "code",
   "execution_count": 29,
   "metadata": {
    "colab": {},
    "colab_type": "code",
    "executionInfo": {
     "elapsed": 1064,
     "status": "ok",
     "timestamp": 1597238283713,
     "user": {
      "displayName": "Anuvrat Karanwal",
      "photoUrl": "",
      "userId": "00023598839116466965"
     },
     "user_tz": -330
    },
    "id": "1S_L36Biyz9o"
   },
   "outputs": [],
   "source": [
    "# FUNCTION FOR PLOTTING ATTENTION WEIGHTS DURING TRAINING\n",
    "\n",
    "def plot_attention(attention, sentence, predicted_sentence):\n",
    "  fig = plt.figure(figsize=(5,5))\n",
    "  ax = fig.add_subplot(1, 1, 1)\n",
    "  ax.matshow(attention, cmap='viridis')\n",
    "\n",
    "  fontdict = {'fontsize': 14}\n",
    "\n",
    "  ax.set_xticklabels([''] + sentence, fontdict=fontdict, rotation=90)\n",
    "  ax.set_yticklabels([''] + predicted_sentence, fontdict=fontdict)\n",
    "\n",
    "  ax.xaxis.set_major_locator(ticker.MultipleLocator(1))\n",
    "  ax.yaxis.set_major_locator(ticker.MultipleLocator(1))\n",
    "\n",
    "  plt.show()"
   ]
  },
  {
   "cell_type": "code",
   "execution_count": 30,
   "metadata": {
    "colab": {},
    "colab_type": "code",
    "executionInfo": {
     "elapsed": 1616,
     "status": "ok",
     "timestamp": 1597238287402,
     "user": {
      "displayName": "Anuvrat Karanwal",
      "photoUrl": "",
      "userId": "00023598839116466965"
     },
     "user_tz": -330
    },
    "id": "Xof1yztMyz9r"
   },
   "outputs": [],
   "source": [
    "# FUNCTION FOR ANSWERING THE QUESTION (USES EVALUATE FUNCTION)\n",
    "\n",
    "def answering_ques(sentence, token, train):\n",
    "  result, sentence, attention_plot = evaluate(sentence, token)\n",
    "  \n",
    "  print(result)\n",
    "\n",
    "  if(train == 1):\n",
    "    attention_plot = attention_plot[:len(result.split(' ')) - 1, :len(sentence.split(' '))]\n",
    "    plot_attention(attention_plot, sentence.split(' '), result.split(' '))"
   ]
  },
  {
   "cell_type": "code",
   "execution_count": null,
   "metadata": {
    "colab": {
     "base_uri": "https://localhost:8080/",
     "height": 1000
    },
    "colab_type": "code",
    "id": "O43t6M0Jyz9Z",
    "outputId": "95ec54a6-e577-43eb-8b89-0d26ac1b6b6b"
   },
   "outputs": [
    {
     "name": "stdout",
     "output_type": "stream",
     "text": [
      "Restored from /content/gdrive/My Drive/chatbot_collab/model_checkpoints/ckpt-43\n",
      "Restoring after 43 checkpoint\n",
      "\n",
      "\n",
      "\n",
      "Epoch 44 Batch 1 Loss 1.1638\n",
      "Epoch 44 Batch 101 Loss 1.1286\n",
      "Epoch 44 Batch 201 Loss 0.9856\n",
      "Epoch 44 Batch 301 Loss 1.0477\n",
      "Epoch 44 Batch 401 Loss 1.3305\n",
      "Epoch 44 Batch 501 Loss 1.5170\n",
      "Epoch 44 Batch 601 Loss 1.0939\n",
      "Epoch 44 Batch 701 Loss 1.0416\n",
      "Epoch 44 Batch 801 Loss 1.3773\n",
      "Epoch 44 Batch 901 Loss 1.4200\n",
      "Epoch 44 Batch 1001 Loss 1.0906\n",
      "Epoch 44 Batch 1101 Loss 1.1158\n",
      "Epoch 44 Batch 1201 Loss 1.3136\n",
      "Epoch 44 Batch 1301 Loss 0.8552\n",
      "Epoch 44 Batch 1401 Loss 0.9821\n",
      "Epoch 44 Batch 1501 Loss 0.8629\n",
      "Epoch 44 Batch 1601 Loss 1.4078\n",
      "Epoch 44 Batch 1701 Loss 1.1612\n",
      "Epoch 44 Batch 1801 Loss 0.8958\n",
      "Epoch 44 Batch 1901 Loss 1.0757\n",
      "Epoch 44 Batch 2001 Loss 0.8450\n",
      "Epoch 44 Batch 2101 Loss 1.2383\n",
      "Epoch 44 Batch 2201 Loss 1.3744\n",
      "Epoch 44 Batch 2301 Loss 1.2473\n",
      "Epoch 44 Batch 2401 Loss 1.2254\n",
      "Epoch 44 Batch 2501 Loss 1.5169\n",
      "Epoch 44 Batch 2601 Loss 0.9430\n",
      "Epoch 44 Batch 2701 Loss 0.9537\n",
      "Epoch 44 Batch 2801 Loss 1.3756\n",
      "Epoch 44 Batch 2901 Loss 1.2870\n",
      "Epoch 44 Batch 3001 Loss 1.4290\n",
      "Epoch 44 Batch 3101 Loss 1.3798\n",
      "Epoch 44 Batch 3201 Loss 1.0210\n",
      "Epoch 44 Batch 3301 Loss 1.2117\n",
      "Epoch 44 Batch 3401 Loss 0.7774\n",
      "Epoch 44 Batch 3501 Loss 1.0597\n",
      "Epoch 44 Batch 3601 Loss 0.9701\n",
      "Epoch 44 Batch 3701 Loss 0.8284\n",
      "Epoch 44 Batch 3801 Loss 0.9541\n",
      "Epoch 44 Batch 3901 Loss 1.2580\n",
      "Epoch 44 Batch 4001 Loss 1.3834\n",
      "Epoch 44 Batch 4101 Loss 1.3944\n",
      "Epoch 44 Batch 4201 Loss 0.9492\n",
      "Epoch 44 Batch 4301 Loss 1.1143\n",
      "Epoch 44 Batch 4401 Loss 1.1323\n",
      "Epoch 44 Batch 4501 Loss 1.1901\n",
      "Epoch 44 Batch 4601 Loss 1.2912\n",
      "Epoch 44 Batch 4701 Loss 1.3847\n",
      "Epoch 44 Batch 4801 Loss 1.0510\n",
      "Epoch 44 Batch 4901 Loss 1.3652\n",
      "Epoch 44 Batch 5001 Loss 1.0496\n"
     ]
    },
    {
     "data": {
      "image/png": "[encoded data removed]",
      "text/plain": [
       "<Figure size 504x504 with 1 Axes>"
      ]
     },
     "metadata": {
      "needs_background": "light",
      "tags": []
     },
     "output_type": "display_data"
    },
    {
     "name": "stdout",
     "output_type": "stream",
     "text": [
      "Epoch 44 Loss 1.1596\n",
      "Time taken for 1 epoch 7506.9240345954895 sec\n",
      "Best epoch so far:  44  smallest loss: tf.Tensor(1.1595545, shape=(), dtype=float32)\n",
      "Checkpoint saved at: /content/gdrive/My Drive/chatbot_collab/model_checkpoints/ckpt-44\n",
      "\n",
      "\n",
      "\n",
      "Ques:  Hello \n",
      "Ans :  is not a joke \n"
     ]
    },
    {
     "data": {
      "image/png": "[encoded data removed]",
      "text/plain": [
       "<Figure size 360x360 with 1 Axes>"
      ]
     },
     "metadata": {
      "needs_background": "light",
      "tags": []
     },
     "output_type": "display_data"
    },
    {
     "name": "stdout",
     "output_type": "stream",
     "text": [
      "Ques:  how are you? \n",
      "Ans :  is not a joke \n"
     ]
    },
    {
     "data": {
      "image/png": "[encoded data removed]",
      "text/plain": [
       "<Figure size 360x360 with 1 Axes>"
      ]
     },
     "metadata": {
      "needs_background": "light",
      "tags": []
     },
     "output_type": "display_data"
    },
    {
     "name": "stdout",
     "output_type": "stream",
     "text": [
      "Ques:  What's up? \n",
      "Ans :  is not a joke \n"
     ]
    },
    {
     "data": {
      "image/png": "[encoded data removed]",
      "text/plain": [
       "<Figure size 360x360 with 1 Axes>"
      ]
     },
     "metadata": {
      "needs_background": "light",
      "tags": []
     },
     "output_type": "display_data"
    },
    {
     "name": "stdout",
     "output_type": "stream",
     "text": [
      "Ques:  What's your name? \n",
      "Ans :  is not a joke \n"
     ]
    },
    {
     "data": {
      "image/png": "[encoded data removed]",
      "text/plain": [
       "<Figure size 360x360 with 1 Axes>"
      ]
     },
     "metadata": {
      "needs_background": "light",
      "tags": []
     },
     "output_type": "display_data"
    },
    {
     "name": "stdout",
     "output_type": "stream",
     "text": [
      "Ques:  I am tired. \n",
      "Ans :  is not a joke \n"
     ]
    },
    {
     "data": {
      "image/png": "[encoded data removed]",
      "text/plain": [
       "<Figure size 360x360 with 1 Axes>"
      ]
     },
     "metadata": {
      "needs_background": "light",
      "tags": []
     },
     "output_type": "display_data"
    },
    {
     "name": "stdout",
     "output_type": "stream",
     "text": [
      "Ques:  You're so smart. \n",
      "Ans :  is not a joke \n"
     ]
    },
    {
     "data": {
      "image/png": "[encoded data removed]",
      "text/plain": [
       "<Figure size 360x360 with 1 Axes>"
      ]
     },
     "metadata": {
      "needs_background": "light",
      "tags": []
     },
     "output_type": "display_data"
    },
    {
     "name": "stdout",
     "output_type": "stream",
     "text": [
      "\n",
      "\n",
      "\n",
      "\n",
      "Epoch 45 Batch 1 Loss 1.1146\n",
      "Epoch 45 Batch 101 Loss 1.1400\n",
      "Epoch 45 Batch 201 Loss 0.9831\n",
      "Epoch 45 Batch 301 Loss 1.0107\n",
      "Epoch 45 Batch 401 Loss 1.2828\n",
      "Epoch 45 Batch 501 Loss 1.4366\n",
      "Epoch 45 Batch 601 Loss 1.0578\n",
      "Epoch 45 Batch 701 Loss 1.0494\n",
      "Epoch 45 Batch 801 Loss 1.3306\n",
      "Epoch 45 Batch 901 Loss 1.3568\n",
      "Epoch 45 Batch 1001 Loss 1.0690\n",
      "Epoch 45 Batch 1101 Loss 1.0897\n",
      "Epoch 45 Batch 1201 Loss 1.2967\n",
      "Epoch 45 Batch 1301 Loss 0.8428\n",
      "Epoch 45 Batch 1401 Loss 0.9395\n",
      "Epoch 45 Batch 1501 Loss 0.8256\n",
      "Epoch 45 Batch 1601 Loss 1.3814\n",
      "Epoch 45 Batch 1701 Loss 1.1191\n",
      "Epoch 45 Batch 1801 Loss 0.8853\n",
      "Epoch 45 Batch 1901 Loss 1.0375\n",
      "Epoch 45 Batch 2001 Loss 0.8426\n",
      "Epoch 45 Batch 2101 Loss 1.1967\n",
      "Epoch 45 Batch 2201 Loss 1.3494\n",
      "Epoch 45 Batch 2301 Loss 1.2195\n",
      "Epoch 45 Batch 2401 Loss 1.2011\n",
      "Epoch 45 Batch 2501 Loss 1.4898\n",
      "Epoch 45 Batch 2601 Loss 0.9228\n",
      "Epoch 45 Batch 2701 Loss 0.9388\n",
      "Epoch 45 Batch 2801 Loss 1.3315\n",
      "Epoch 45 Batch 2901 Loss 1.2532\n",
      "Epoch 45 Batch 3001 Loss 1.3754\n",
      "Epoch 45 Batch 3101 Loss 1.3429\n",
      "Epoch 45 Batch 3201 Loss 0.9928\n",
      "Epoch 45 Batch 3301 Loss 1.1524\n",
      "Epoch 45 Batch 3401 Loss 0.7869\n",
      "Epoch 45 Batch 3501 Loss 1.0431\n",
      "Epoch 45 Batch 3601 Loss 0.9810\n",
      "Epoch 45 Batch 3701 Loss 0.8184\n",
      "Epoch 45 Batch 3801 Loss 0.9434\n",
      "Epoch 45 Batch 3901 Loss 1.2244\n",
      "Epoch 45 Batch 4001 Loss 1.3171\n",
      "Epoch 45 Batch 4101 Loss 1.3495\n",
      "Epoch 45 Batch 4201 Loss 0.9467\n",
      "Epoch 45 Batch 4301 Loss 1.1230\n",
      "Epoch 45 Batch 4401 Loss 1.1325\n",
      "Epoch 45 Batch 4501 Loss 1.1228\n",
      "Epoch 45 Batch 4601 Loss 1.2526\n",
      "Epoch 45 Batch 4701 Loss 1.3571\n",
      "Epoch 45 Batch 4801 Loss 1.0420\n",
      "Epoch 45 Batch 4901 Loss 1.3742\n",
      "Epoch 45 Batch 5001 Loss 1.0482\n"
     ]
    },
    {
     "data": {
      "image/png": "[encoded data removed]",
      "text/plain": [
       "<Figure size 504x504 with 1 Axes>"
      ]
     },
     "metadata": {
      "needs_background": "light",
      "tags": []
     },
     "output_type": "display_data"
    },
    {
     "name": "stdout",
     "output_type": "stream",
     "text": [
      "Epoch 45 Loss 1.1372\n",
      "Time taken for 1 epoch 7691.095586299896 sec\n",
      "Best epoch so far:  45  smallest loss: tf.Tensor(1.1371653, shape=(), dtype=float32)\n",
      "Checkpoint saved at: /content/gdrive/My Drive/chatbot_collab/model_checkpoints/ckpt-45\n",
      "\n",
      "\n",
      "\n",
      "Ques:  Hello \n",
      "Ans :  is not true \n"
     ]
    },
    {
     "data": {
      "image/png": "[encoded data removed]",
      "text/plain": [
       "<Figure size 360x360 with 1 Axes>"
      ]
     },
     "metadata": {
      "needs_background": "light",
      "tags": []
     },
     "output_type": "display_data"
    },
    {
     "name": "stdout",
     "output_type": "stream",
     "text": [
      "Ques:  how are you? \n",
      "Ans :  is not true \n"
     ]
    },
    {
     "data": {
      "image/png": "[encoded data removed]",
      "text/plain": [
       "<Figure size 360x360 with 1 Axes>"
      ]
     },
     "metadata": {
      "needs_background": "light",
      "tags": []
     },
     "output_type": "display_data"
    },
    {
     "name": "stdout",
     "output_type": "stream",
     "text": [
      "Ques:  What's up? \n",
      "Ans :  is not true \n"
     ]
    },
    {
     "data": {
      "image/png": "[encoded data removed]",
      "text/plain": [
       "<Figure size 360x360 with 1 Axes>"
      ]
     },
     "metadata": {
      "needs_background": "light",
      "tags": []
     },
     "output_type": "display_data"
    },
    {
     "name": "stdout",
     "output_type": "stream",
     "text": [
      "Ques:  What's your name? \n",
      "Ans :  is not true \n"
     ]
    },
    {
     "data": {
      "image/png": "[encoded data removed]",
      "text/plain": [
       "<Figure size 360x360 with 1 Axes>"
      ]
     },
     "metadata": {
      "needs_background": "light",
      "tags": []
     },
     "output_type": "display_data"
    },
    {
     "name": "stdout",
     "output_type": "stream",
     "text": [
      "Ques:  I am tired. \n",
      "Ans :  is not true \n"
     ]
    },
    {
     "data": {
      "image/png": "[encoded data removed]",
      "text/plain": [
       "<Figure size 360x360 with 1 Axes>"
      ]
     },
     "metadata": {
      "needs_background": "light",
      "tags": []
     },
     "output_type": "display_data"
    },
    {
     "name": "stdout",
     "output_type": "stream",
     "text": [
      "Ques:  You're so smart. \n",
      "Ans :  is not true \n"
     ]
    },
    {
     "data": {
      "image/png": "[encoded data removed]",
      "text/plain": [
       "<Figure size 360x360 with 1 Axes>"
      ]
     },
     "metadata": {
      "needs_background": "light",
      "tags": []
     },
     "output_type": "display_data"
    },
    {
     "name": "stdout",
     "output_type": "stream",
     "text": [
      "\n",
      "\n",
      "\n",
      "\n",
      "Epoch 46 Batch 1 Loss 1.1403\n",
      "Epoch 46 Batch 101 Loss 1.1197\n",
      "Epoch 46 Batch 201 Loss 0.9609\n",
      "Epoch 46 Batch 301 Loss 1.0105\n",
      "Epoch 46 Batch 401 Loss 1.2789\n",
      "Epoch 46 Batch 501 Loss 1.4525\n",
      "Epoch 46 Batch 601 Loss 1.0499\n",
      "Epoch 46 Batch 701 Loss 1.0204\n",
      "Epoch 46 Batch 801 Loss 1.3123\n",
      "Epoch 46 Batch 901 Loss 1.3303\n",
      "Epoch 46 Batch 1001 Loss 1.0723\n",
      "Epoch 46 Batch 1101 Loss 1.0847\n",
      "Epoch 46 Batch 1201 Loss 1.2806\n",
      "Epoch 46 Batch 1301 Loss 0.8300\n",
      "Epoch 46 Batch 1401 Loss 0.9352\n",
      "Epoch 46 Batch 1501 Loss 0.8550\n",
      "Epoch 46 Batch 1601 Loss 1.3861\n",
      "Epoch 46 Batch 1701 Loss 1.0902\n",
      "Epoch 46 Batch 1801 Loss 0.9124\n",
      "Epoch 46 Batch 1901 Loss 1.0393\n",
      "Epoch 46 Batch 2001 Loss 0.8375\n",
      "Epoch 46 Batch 2101 Loss 1.1946\n",
      "Epoch 46 Batch 2201 Loss 1.3109\n",
      "Epoch 46 Batch 2301 Loss 1.2106\n",
      "Epoch 46 Batch 2401 Loss 1.1802\n",
      "Epoch 46 Batch 2501 Loss 1.4491\n",
      "Epoch 46 Batch 2601 Loss 0.9152\n",
      "Epoch 46 Batch 2701 Loss 0.9327\n",
      "Epoch 46 Batch 2801 Loss 1.2814\n",
      "Epoch 46 Batch 2901 Loss 1.2382\n",
      "Epoch 46 Batch 3001 Loss 1.3669\n",
      "Epoch 46 Batch 3101 Loss 1.3404\n",
      "Epoch 46 Batch 3201 Loss 1.0007\n",
      "Epoch 46 Batch 3301 Loss 1.1698\n",
      "Epoch 46 Batch 3401 Loss 0.7588\n",
      "Epoch 46 Batch 3501 Loss 1.0538\n",
      "Epoch 46 Batch 3601 Loss 0.9837\n",
      "Epoch 46 Batch 3701 Loss 0.7983\n",
      "Epoch 46 Batch 3801 Loss 0.9270\n",
      "Epoch 46 Batch 3901 Loss 1.2079\n",
      "Epoch 46 Batch 4001 Loss 1.3078\n",
      "Epoch 46 Batch 4101 Loss 1.3327\n",
      "Epoch 46 Batch 4201 Loss 0.9459\n",
      "Epoch 46 Batch 4301 Loss 1.1057\n",
      "Epoch 46 Batch 4401 Loss 1.1379\n",
      "Epoch 46 Batch 4501 Loss 1.1413\n",
      "Epoch 46 Batch 4601 Loss 1.2814\n",
      "Epoch 46 Batch 4701 Loss 1.3220\n",
      "Epoch 46 Batch 4801 Loss 1.0419\n",
      "Epoch 46 Batch 4901 Loss 1.3423\n",
      "Epoch 46 Batch 5001 Loss 1.0482\n"
     ]
    },
    {
     "data": {
      "image/png": "[encoded data removed]",
      "text/plain": [
       "<Figure size 504x504 with 1 Axes>"
      ]
     },
     "metadata": {
      "needs_background": "light",
      "tags": []
     },
     "output_type": "display_data"
    },
    {
     "name": "stdout",
     "output_type": "stream",
     "text": [
      "Epoch 46 Loss 1.1249\n",
      "Time taken for 1 epoch 7679.612992763519 sec\n",
      "Best epoch so far:  46  smallest loss: tf.Tensor(1.1248628, shape=(), dtype=float32)\n",
      "Checkpoint saved at: /content/gdrive/My Drive/chatbot_collab/model_checkpoints/ckpt-46\n",
      "\n",
      "\n",
      "\n",
      "Ques:  Hello \n",
      "Ans :  is the matter with you \n"
     ]
    },
    {
     "data": {
      "image/png": "[encoded data removed]",
      "text/plain": [
       "<Figure size 360x360 with 1 Axes>"
      ]
     },
     "metadata": {
      "needs_background": "light",
      "tags": []
     },
     "output_type": "display_data"
    },
    {
     "name": "stdout",
     "output_type": "stream",
     "text": [
      "Ques:  how are you? \n",
      "Ans :  is the matter with you \n"
     ]
    },
    {
     "data": {
      "image/png": "[encoded data removed]",
      "text/plain": [
       "<Figure size 360x360 with 1 Axes>"
      ]
     },
     "metadata": {
      "needs_background": "light",
      "tags": []
     },
     "output_type": "display_data"
    },
    {
     "name": "stdout",
     "output_type": "stream",
     "text": [
      "Ques:  What's up? \n",
      "Ans :  is the matter with you \n"
     ]
    },
    {
     "data": {
      "image/png": "[encoded data removed]",
      "text/plain": [
       "<Figure size 360x360 with 1 Axes>"
      ]
     },
     "metadata": {
      "needs_background": "light",
      "tags": []
     },
     "output_type": "display_data"
    },
    {
     "name": "stdout",
     "output_type": "stream",
     "text": [
      "Ques:  What's your name? \n",
      "Ans :  is the matter with you \n"
     ]
    },
    {
     "data": {
      "image/png": "[encoded data removed]",
      "text/plain": [
       "<Figure size 360x360 with 1 Axes>"
      ]
     },
     "metadata": {
      "needs_background": "light",
      "tags": []
     },
     "output_type": "display_data"
    },
    {
     "name": "stdout",
     "output_type": "stream",
     "text": [
      "Ques:  I am tired. \n",
      "Ans :  is the matter with you \n"
     ]
    },
    {
     "data": {
      "image/png": "[encoded data removed]",
      "text/plain": [
       "<Figure size 360x360 with 1 Axes>"
      ]
     },
     "metadata": {
      "needs_background": "light",
      "tags": []
     },
     "output_type": "display_data"
    },
    {
     "name": "stdout",
     "output_type": "stream",
     "text": [
      "Ques:  You're so smart. \n",
      "Ans :  is the matter with you \n"
     ]
    },
    {
     "data": {
      "image/png": "[encoded data removed]",
      "text/plain": [
       "<Figure size 360x360 with 1 Axes>"
      ]
     },
     "metadata": {
      "needs_background": "light",
      "tags": []
     },
     "output_type": "display_data"
    },
    {
     "name": "stdout",
     "output_type": "stream",
     "text": [
      "\n",
      "\n",
      "\n",
      "\n",
      "Epoch 47 Batch 1 Loss 1.1477\n"
     ]
    }
   ],
   "source": [
    "# TRAINING STEP\n",
    "\n",
    "ep = 1\n",
    "checkpoint.restore(manager.latest_checkpoint)    # Restoring the Checkpoints\n",
    "if manager.latest_checkpoint:\n",
    "  print(\"Restored from {}\".format(manager.latest_checkpoint))\n",
    "  print(\"Restoring after {} checkpoint\".format(manager.latest_checkpoint.split('-')[-1]))\n",
    "  print(\"\\n\\n\")\n",
    "  ep = int(manager.latest_checkpoint.split('-')[-1]) + 1\n",
    "                    \n",
    "else:\n",
    "  print(\"Initializing from scratch.\")\n",
    "\n",
    "for epoch in range(ep,epochs+1):\n",
    "  start = time.time()\n",
    "  total_loss = 0\n",
    "\n",
    "  for (batch, (inp, targ)) in enumerate(dataset.take(steps_per_epoch)):\n",
    "    batch_loss = train_step(inp, targ)\n",
    "    total_loss += batch_loss\n",
    "\n",
    "    if batch % 100 == 0:\n",
    "      print('Epoch {} Batch {} Loss {:.4f}'.format(epoch,\n",
    "                                                   batch + 1,\n",
    "                                                   batch_loss.numpy()))\n",
    "      \n",
    "  \n",
    "  epoch_loss = total_loss / steps_per_epoch\n",
    "  history['loss'].append(epoch_loss)\n",
    "  if epoch_loss < smallest_loss:\n",
    "        smallest_loss = epoch_loss\n",
    "        best_ep = epoch\n",
    "        \n",
    "  plot_history()\n",
    "  save_path = manager.save()\n",
    "\n",
    "  print('Epoch {} Loss {:.4f}'.format(epoch, total_loss / steps_per_epoch))\n",
    "  print('Time taken for 1 epoch {} sec'.format(time.time() - start))\n",
    "  print('Best epoch so far: ',best_ep,' smallest loss:',smallest_loss) \n",
    "  print(\"Checkpoint saved at: {}\".format(save_path))\n",
    "  print('\\n\\n')\n",
    "  sents = [\"Hello\",\"how are you?\",\"What's up?\",\"What's your name?\",\"I am tired.\",\"You're so smart.\"]\n",
    "  for s in sents:\n",
    "    print('Ques: ',s,'\\nAns :  ', end = '')\n",
    "    answering_ques(s,t,1)\n",
    "  \n",
    "  print('\\n\\n\\n')"
   ]
  },
  {
   "cell_type": "code",
   "execution_count": 35,
   "metadata": {
    "colab": {
     "base_uri": "https://localhost:8080/",
     "height": 286
    },
    "colab_type": "code",
    "executionInfo": {
     "elapsed": 87095,
     "status": "ok",
     "timestamp": 1597239002939,
     "user": {
      "displayName": "Anuvrat Karanwal",
      "photoUrl": "",
      "userId": "00023598839116466965"
     },
     "user_tz": -330
    },
    "id": "Ux9njEjyKKiM",
    "outputId": "d3b4598e-8375-4745-9241-4949fecb3c43"
   },
   "outputs": [
    {
     "name": "stdout",
     "output_type": "stream",
     "text": [
      "Me  : hello...\n",
      "Ans : is the matter with you \n",
      "\n",
      "\n",
      "Me  : yes, it matters with me\n",
      "Ans : is the matter with you \n",
      "\n",
      "\n",
      "Me  : Shut up you fool... n just go to hell u rascal\n",
      "Ans : is the matter with you \n",
      "\n",
      "\n",
      "Me  : bye\n",
      "Ans : Are you sure you want to QUIT? If YES enter 'y' Else press any other key _____\n",
      "Me  : y\n",
      "Ans : Bye, Have a Nice Day...\n"
     ]
    }
   ],
   "source": [
    "# CHAT WITH THE BOT\n",
    "\n",
    "checkpoint.restore(manager.latest_checkpoint)\n",
    "while(True):\n",
    "  print('Me  : ',end = '')\n",
    "  ques = input()\n",
    "\n",
    "  if(ques.lower() == 'bye'):\n",
    "    print(\"Ans : Are you sure you want to QUIT? If YES enter 'y' Else press any other key _____\")\n",
    "    print(\"Me  : \",end = '')\n",
    "    ans = input()\n",
    "    \n",
    "    if(ans.lower() == 'y'):\n",
    "      print(\"Ans : Bye, Have a Nice Day...\")\n",
    "      break\n",
    "    \n",
    "    else:\n",
    "      answering_ques(ques,t,0)\n",
    "      print('\\n')\n",
    "      continue\n",
    "  \n",
    "  print('Ans : ', end = '')\n",
    "  answering_ques(ques,t,0)\n",
    "  print('\\n')"
   ]
  },
  {
   "cell_type": "code",
   "execution_count": null,
   "metadata": {
    "colab": {},
    "colab_type": "code",
    "id": "CQxg8NpiKKcF"
   },
   "outputs": [],
   "source": []
  }
 ],
 "metadata": {
  "accelerator": "GPU",
  "colab": {
   "name": "chatbot_code.ipynb",
   "provenance": []
  },
  "kernelspec": {
   "display_name": "Python 3",
   "language": "python",
   "name": "python3"
  },
  "language_info": {
   "codemirror_mode": {
    "name": "ipython",
    "version": 3
   },
   "file_extension": ".py",
   "mimetype": "text/x-python",
   "name": "python",
   "nbconvert_exporter": "python",
   "pygments_lexer": "ipython3",
   "version": "3.7.7"
  }
 },
 "nbformat": 4,
 "nbformat_minor": 1
}
